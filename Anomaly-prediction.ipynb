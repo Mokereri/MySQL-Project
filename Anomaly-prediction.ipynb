{
 "cells": [
  {
   "cell_type": "code",
   "execution_count": 5,
   "metadata": {},
   "outputs": [
    {
     "name": "stdout",
     "output_type": "stream",
     "text": [
      "502.5749027097869\n",
      "245.8981459128203\n"
     ]
    }
   ],
   "source": [
    "import pandas as pd\n",
    "import numpy as np\n",
    "from sklearn.model_selection import train_test_split\n",
    "from sklearn.linear_model import LogisticRegression\n",
    "from sklearn.metrics import accuracy_score, classification_report, confusion_matrix\n",
    "\n",
    "# Load the dataset\n",
    "file_path = 'C:/Users/user/Desktop/Datasets/metaverse_transactions_dataset.csv'\n",
    "df = pd.read_csv(file_path)\n",
    "\n",
    "# Convert timestamp to datetime\n",
    "df['timestamp'] = pd.to_datetime(df['timestamp'])\n",
    "\n",
    "# Calculate the average and standard deviation of the transaction amount\n",
    "mean_amount = df['amount'].mean()\n",
    "std_amount = df['amount'].std()\n",
    "\n",
    "print(mean_amount)\n",
    "print(std_amount)\n"
   ]
  },
  {
   "cell_type": "code",
   "execution_count": 26,
   "metadata": {},
   "outputs": [],
   "source": [
    "# Define a transaction as an anomaly if the amount exceeds the average by more than two standard deviations\n",
    "df['is_anomaly'] = np.where(df['amount'] > mean_amount + 2 * std_amount, 1, 0)\n"
   ]
  },
  {
   "cell_type": "code",
   "execution_count": 21,
   "metadata": {},
   "outputs": [],
   "source": [
    "\n",
    "# Drop unnecessary columns\n",
    "df = ['timestamp', 'sending_address', 'receiving_address', 'transaction_type', 'location_region', 'anomaly']\n",
    "\n",
    "# Convert categorical variables to dummy variables\n",
    "df = pd.get_dummies(dtf, drop_first=True)"
   ]
  },
  {
   "cell_type": "code",
   "execution_count": null,
   "metadata": {},
   "outputs": [],
   "source": [
    "# Drop unnecessary columns\n",
    "df = df.drop(columns=['timestamp', 'sending_address', 'receiving_address', 'transaction_type', 'location_region', 'anomaly'])\n",
    "\n",
    "# Convert categorical variables to dummy variables\n",
    "df = pd.get_dummies(df, drop_first=True)"
   ]
  },
  {
   "cell_type": "code",
   "execution_count": 23,
   "metadata": {},
   "outputs": [],
   "source": [
    "# Separate features and target variable\n",
    "X = df.drop(columns=['is_anomaly'])\n",
    "y = df['is_anomaly']\n",
    "\n",
    "# Split the data into training and testing sets\n",
    "X_train, X_test, y_train, y_test = train_test_split(X, y, test_size=0.2, random_state=42)"
   ]
  },
  {
   "cell_type": "code",
   "execution_count": 25,
   "metadata": {},
   "outputs": [
    {
     "name": "stdout",
     "output_type": "stream",
     "text": [
      "Accuracy: 0.9998727735368956\n",
      "Confusion Matrix:\n",
      "[[15357     0]\n",
      " [    2   361]]\n",
      "Classification Report:\n",
      "              precision    recall  f1-score   support\n",
      "\n",
      "           0       1.00      1.00      1.00     15357\n",
      "           1       1.00      0.99      1.00       363\n",
      "\n",
      "    accuracy                           1.00     15720\n",
      "   macro avg       1.00      1.00      1.00     15720\n",
      "weighted avg       1.00      1.00      1.00     15720\n",
      "\n"
     ]
    }
   ],
   "source": [
    "# Initialize and train the logistic regression model\n",
    "model = LogisticRegression(max_iter=1000, random_state=42)\n",
    "model.fit(X_train, y_train)\n",
    "\n",
    "# Predict on the test data\n",
    "y_pred = model.predict(X_test)\n",
    "\n",
    "# Evaluate the model\n",
    "accuracy = accuracy_score(y_test, y_pred)\n",
    "conf_matrix = confusion_matrix(y_test, y_pred)\n",
    "class_report = classification_report(y_test, y_pred)\n",
    "\n",
    "print(f\"Accuracy: {accuracy}\")\n",
    "print(\"Confusion Matrix:\")\n",
    "print(conf_matrix)\n",
    "print(\"Classification Report:\")\n",
    "print(class_report)\n",
    "\n",
    "# Save the results into a csv file\n",
    "result_df = pd.DataFrame({'Actual': y_test, 'Predicted': y_pred})\n",
    "result_df.to_csv('C:/Users/user/Desktop/Venus')"
   ]
  }
 ],
 "metadata": {
  "kernelspec": {
   "display_name": "Python 3",
   "language": "python",
   "name": "python3"
  },
  "language_info": {
   "codemirror_mode": {
    "name": "ipython",
    "version": 3
   },
   "file_extension": ".py",
   "mimetype": "text/x-python",
   "name": "python",
   "nbconvert_exporter": "python",
   "pygments_lexer": "ipython3",
   "version": "3.11.6"
  }
 },
 "nbformat": 4,
 "nbformat_minor": 2
}
